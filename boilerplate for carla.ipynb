{
 "cells": [
  {
   "cell_type": "code",
   "execution_count": 1,
   "id": "c6a8787a",
   "metadata": {},
   "outputs": [],
   "source": [
    "import carla\n",
    "import random\n",
    "import time\n",
    "import math\n",
    "\n",
    "import numpy as np\n",
    "import cv2"
   ]
  },
  {
   "cell_type": "code",
   "execution_count": 2,
   "id": "8b2f2216",
   "metadata": {},
   "outputs": [],
   "source": [
    "# Connect to the CARLA Simulator\n",
    "client = carla.Client('localhost', 2000)\n",
    "world = client.get_world()"
   ]
  },
  {
   "cell_type": "code",
   "execution_count": 3,
   "id": "11a4ab25",
   "metadata": {},
   "outputs": [],
   "source": [
    "bp_lib = world.get_blueprint_library()\n",
    "spawn_points = world.get_map().get_spawn_points()"
   ]
  },
  {
   "cell_type": "code",
   "execution_count": 4,
   "id": "52a948fb",
   "metadata": {},
   "outputs": [],
   "source": [
    "vehicle_bp = bp_lib.find(\"vehicle.lincoln.mkz_2020\")\n",
    "vehicle = world.try_spawn_actor(vehicle_bp, random.choice(spawn_points))\n",
    "\n",
    "spectator = world.get_spectator()\n",
    "transform = carla.Transform(vehicle.get_transform().transform(carla.Location(x=-4, z=2.5)), vehicle.get_transform().rotation)\n",
    "spectator.set_transform(transform)"
   ]
  },
  {
   "cell_type": "code",
   "execution_count": null,
   "id": "7970893d",
   "metadata": {
    "tags": []
   },
   "outputs": [],
   "source": [
    "# camera_bp = bp_lib.find(\"sensor.camera.rgb\")\n",
    "# camera_bp.set_attribute(\"sensor_tick\", \"0.2\")\n",
    "\n",
    "# camera_init_trans = carla.Transform(carla.Location(z=2, x=0.4))\n",
    "# camera = world.spawn_actor(camera_bp, camera_init_trans, attach_to=vehicle)\n",
    "\n",
    "# # time.sleep(0.2)\n",
    "# spectator.set_transform(camera.get_transform())\n",
    "# # camera.destroy()\n",
    "\n",
    "# camera.listen(lambda image: image.save_to_disk('output/%06d.png' % image.frame))"
   ]
  },
  {
   "cell_type": "code",
   "execution_count": null,
   "id": "8a4556bd",
   "metadata": {},
   "outputs": [],
   "source": [
    "# camera.stop()"
   ]
  },
  {
   "cell_type": "code",
   "execution_count": 5,
   "id": "3ed88ad5-0bad-471e-b531-dccb832eefa0",
   "metadata": {
    "tags": []
   },
   "outputs": [],
   "source": [
    "# Create a camera sensor blueprint\n",
    "# camera_bp = bp_lib.find(\"sensor.camera.rgb\")\n",
    "camera_bp = bp_lib.find(\"sensor.camera.depth\")\n",
    "\n",
    "\n",
    "# Set camera attributes\n",
    "camera_bp.set_attribute(\"image_size_x\", \"120\")  # Reduce width\n",
    "camera_bp.set_attribute(\"image_size_y\", \"90\")  # Reduce height\n",
    "camera_bp.set_attribute(\"sensor_tick\", \"0.10\")   # Capture one frame every 0.5 seconds\n",
    "\n",
    "\n",
    "# Initialize the camera transformation (relative to the vehicle)\n",
    "camera_init_trans = carla.Transform(carla.Location(z=1.6, x=0.4))\n",
    "\n",
    "# Spawn the camera sensor attached to the vehicle\n",
    "camera = world.spawn_actor(camera_bp, \n",
    "                           camera_init_trans, \n",
    "                           attach_to=vehicle)\n",
    "\n",
    "# Define a function to process and save images\n",
    "# def process_image(image):\n",
    "#     image.convert(carla.ColorConverter.Raw)  # Optional: Adjust color format\n",
    "#     image.save_to_disk(\"output/%06d.png\" % image.frame)\n",
    "\n",
    "# Attach a listener to the camera\n",
    "# camera.listen(process_image)\n",
    "\n",
    "\n",
    "# Run for a few seconds to collect data (then destroy the camera)\n",
    "# time.sleep(10)  # Collect images for 5 seconds\n",
    "# camera.destroy()\n"
   ]
  },
  {
   "cell_type": "code",
   "execution_count": 6,
   "id": "95852b80-34ac-4e84-8b87-e111a5d0b586",
   "metadata": {
    "tags": []
   },
   "outputs": [],
   "source": [
    "def camera_callback(image, data_dict):\n",
    "    data_dict['image'] = np.reshape(np.copy(image.raw_data), \n",
    "                                    (image.height, image.width, 4))"
   ]
  },
  {
   "cell_type": "code",
   "execution_count": 7,
   "id": "fb6fb8fb-c762-4472-8b49-433d140fab1e",
   "metadata": {
    "tags": []
   },
   "outputs": [],
   "source": [
    "image_w = camera_bp.get_attribute(\"image_size_x\").as_int()\n",
    "image_h = camera_bp.get_attribute(\"image_size_y\").as_int()\n",
    "\n",
    "\n",
    "camera_data = {'image': np.zeros((image_h, image_w, 4), dtype=np.uint8)}\n",
    "\n",
    "camera.listen(lambda image: camera_callback(image, camera_data))"
   ]
  },
  {
   "cell_type": "code",
   "execution_count": 8,
   "id": "2b589b54-85b4-4177-bc9d-e770f5892254",
   "metadata": {
    "tags": []
   },
   "outputs": [],
   "source": [
    "vehicle.set_autopilot()"
   ]
  },
  {
   "cell_type": "code",
   "execution_count": null,
   "id": "03cb0926-b957-4f4a-bde4-f155b79a5baa",
   "metadata": {},
   "outputs": [],
   "source": []
  },
  {
   "cell_type": "code",
   "execution_count": null,
   "id": "bac42a70-6f9d-487f-b288-50e48aa06902",
   "metadata": {
    "tags": []
   },
   "outputs": [],
   "source": [
    "cv2.namedWindow(\"RGB Camera\", cv2.WINDOW_AUTOSIZE)\n",
    "cv2.imshow(\"RGB Camera\", camera_data['image'])\n",
    "cv2.waitKey(1)\n",
    "\n",
    "\n",
    "while True:\n",
    "    cv2.imshow(\"RGB Camera\", camera_data['image'])\n",
    "    \n",
    "    if cv2.waitKey(1) == ord('q'):\n",
    "        break\n",
    "\n",
    "cv2.destroyAllWindows()"
   ]
  },
  {
   "cell_type": "code",
   "execution_count": null,
   "id": "6d5fead7-7c1a-4c33-be2d-6f03eaf78e35",
   "metadata": {},
   "outputs": [],
   "source": []
  }
 ],
 "metadata": {
  "kernelspec": {
   "display_name": "Python 3 (ipykernel)",
   "language": "python",
   "name": "python3"
  },
  "language_info": {
   "codemirror_mode": {
    "name": "ipython",
    "version": 3
   },
   "file_extension": ".py",
   "mimetype": "text/x-python",
   "name": "python",
   "nbconvert_exporter": "python",
   "pygments_lexer": "ipython3",
   "version": "3.7.16"
  }
 },
 "nbformat": 4,
 "nbformat_minor": 5
}
