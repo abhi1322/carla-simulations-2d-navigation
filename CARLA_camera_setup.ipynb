{
 "cells": [
  {
   "cell_type": "code",
   "execution_count": null,
   "id": "54805ea9",
   "metadata": {},
   "outputs": [],
   "source": [
    "import carla\n",
    "import random\n",
    "import time\n",
    "import numpy as np\n",
    "import cv2\n"
   ]
  },
  {
   "cell_type": "code",
   "execution_count": null,
   "id": "810fb38f-1c91-4656-9961-1b39b667434a",
   "metadata": {},
   "outputs": [],
   "source": [
    "\n",
    "# Function to attach the spectator to follow the vehicle\n",
    "def attach_spectator_to_vehicle(vehicle):\n",
    "    spectator = world.get_spectator()\n",
    "    transform = carla.Transform(vehicle.get_transform().transform(carla.Location(x=-6, z=3)), vehicle.get_transform().rotation)\n",
    "    spectator.set_transform(transform)\n",
    "\n",
    "# Callback function to process camera images\n",
    "def camera_callback(image, data_dict):\n",
    "    array = np.frombuffer(image.raw_data, dtype=np.uint8)\n",
    "    array = np.reshape(array, (image.height, image.width, 4))\n",
    "    data_dict['image'] = array[:, :, :3]  # Drop the alpha channel\n"
   ]
  },
  {
   "cell_type": "code",
   "execution_count": null,
   "id": "df667dfa-c0b9-4e66-b561-9497509b5a9c",
   "metadata": {},
   "outputs": [],
   "source": [
    "# Connect to CARLA Simulator\n",
    "client = carla.Client('localhost', 2000)\n",
    "client.set_timeout(10.0)  # Increase timeout for connection stability\n",
    "world = client.get_world()\n"
   ]
  },
  {
   "cell_type": "code",
   "execution_count": null,
   "id": "1c9b273b-acbc-4f8f-b734-7250e0f8514a",
   "metadata": {},
   "outputs": [],
   "source": [
    "# Reduce quality level for performance\n",
    "settings = world.get_settings()\n",
    "settings.synchronous_mode = True  # Enable synchronous mode\n",
    "settings.fixed_delta_seconds = 0.05  # Fixed time step\n",
    "world.apply_settings(settings)\n"
   ]
  },
  {
   "cell_type": "code",
   "execution_count": null,
   "id": "35e350c7-2e10-4f4e-9a57-beafd57e7019",
   "metadata": {},
   "outputs": [],
   "source": [
    "# Get blueprint library and spawn points\n",
    "bp_lib = world.get_blueprint_library()\n",
    "spawn_points = world.get_map().get_spawn_points()"
   ]
  },
  {
   "cell_type": "code",
   "execution_count": null,
   "id": "072221a2-17fd-4867-8b6b-57f4408e136b",
   "metadata": {},
   "outputs": [],
   "source": [
    "# Spawn a vehicle\n",
    "vehicle_bp = bp_lib.find(\"vehicle.lincoln.mkz_2020\")\n",
    "vehicle = world.try_spawn_actor(vehicle_bp, random.choice(spawn_points))\n",
    "\n",
    "if vehicle is None:\n",
    "    raise RuntimeError(\"Unable to spawn the vehicle. Please retry.\")\n",
    "\n",
    "# Attach spectator to follow the vehicle\n",
    "attach_spectator_to_vehicle(vehicle)"
   ]
  },
  {
   "cell_type": "code",
   "execution_count": null,
   "id": "6c7d3c49-2bf4-4143-af95-360c0bb1f4de",
   "metadata": {},
   "outputs": [],
   "source": [
    "# Camera types to be added\n",
    "camera_types = [\n",
    "    \"sensor.camera.rgb\",\n",
    "    \"sensor.camera.depth\",\n",
    "    # \"sensor.camera.semantic_segmentation\",\n",
    "    # \"sensor.camera.dvs\",\n",
    "    # \"sensor.camera.instance_segmentation\",\n",
    "    # \"sensor.camera.optical_flow\",\n",
    "]\n",
    "\n",
    "# Initialize cameras\n",
    "cameras = []\n",
    "camera_data = {}\n",
    "camera_resolution = (160, 90)  # Reduced resolution for better performance"
   ]
  },
  {
   "cell_type": "code",
   "execution_count": null,
   "id": "02948685-091c-4a5a-a2e1-776b42124807",
   "metadata": {},
   "outputs": [],
   "source": [
    "for camera_type in camera_types:\n",
    "    camera_bp = bp_lib.find(camera_type)\n",
    "    camera_bp.set_attribute(\"image_size_x\", str(camera_resolution[0]))\n",
    "    camera_bp.set_attribute(\"image_size_y\", str(camera_resolution[1]))\n",
    "    # camera_bp.set_attribute(\"fov\", \"90\")  # Field of view\n",
    "    camera_bp.set_attribute(\"sensor_tick\", \"0.10\")   # Capture one frame every 0.5 seconds\n",
    "    \n",
    "    \n",
    "    \n",
    "    # Spawn camera\n",
    "    camera_transform = carla.Transform(carla.Location(x=1.5, z=2.4))  # Adjust location as needed\n",
    "    camera = world.spawn_actor(camera_bp, camera_transform, attach_to=vehicle)\n",
    "    # cameras.append(camera)\n",
    "\n",
    "    # Initialize data storage\n",
    "    camera_data[camera_type] = {'image': np.zeros((camera_resolution[1], camera_resolution[0], 3), dtype=np.uint8)}\n",
    "\n",
    "    # Start listening to the camera\n",
    "    camera.listen(lambda image, name=camera_type: camera_callback(image, camera_data[name]))"
   ]
  },
  {
   "cell_type": "code",
   "execution_count": null,
   "id": "aef76805-14b5-47e0-ba32-b13c5e1fba6f",
   "metadata": {},
   "outputs": [],
   "source": [
    "# Enable autopilot for the vehicle\n",
    "vehicle.set_autopilot(True)\n"
   ]
  },
  {
   "cell_type": "code",
   "execution_count": null,
   "id": "0f70b627-dd8f-4321-89ec-0b3573f78483",
   "metadata": {},
   "outputs": [],
   "source": [
    "# Display camera feeds\n",
    "cv2.namedWindow(\"Camera Feed\", cv2.WINDOW_AUTOSIZE)\n",
    "\n",
    "try:\n",
    "    while True:\n",
    "        # Combine and show feeds from all cameras\n",
    "        combined_image = np.hstack([camera_data[camera_type]['image'] for camera_type in camera_types])\n",
    "        cv2.imshow(\"Camera Feed\", combined_image)\n",
    "\n",
    "        # Attach the spectator to ensure it's following the vehicle\n",
    "        attach_spectator_to_vehicle(vehicle)\n",
    "\n",
    "        if cv2.waitKey(1) == ord('q'):  # Exit on pressing 'q'\n",
    "            break\n",
    "finally:\n",
    "    # Clean up\n",
    "    cv2.destroyAllWindows()\n",
    "    for camera in cameras:\n",
    "        camera.stop()\n",
    "        camera.destroy()\n",
    "    vehicle.destroy()"
   ]
  },
  {
   "cell_type": "code",
   "execution_count": null,
   "id": "ac95eeb4-5a9f-4e0d-9846-6135cfe8dfe6",
   "metadata": {},
   "outputs": [],
   "source": []
  }
 ],
 "metadata": {
  "kernelspec": {
   "display_name": "Python 3 (ipykernel)",
   "language": "python",
   "name": "python3"
  },
  "language_info": {
   "codemirror_mode": {
    "name": "ipython",
    "version": 3
   },
   "file_extension": ".py",
   "mimetype": "text/x-python",
   "name": "python",
   "nbconvert_exporter": "python",
   "pygments_lexer": "ipython3",
   "version": "3.7.16"
  }
 },
 "nbformat": 4,
 "nbformat_minor": 5
}
