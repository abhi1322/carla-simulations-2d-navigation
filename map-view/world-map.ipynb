{
 "cells": [
  {
   "cell_type": "code",
   "execution_count": null,
   "id": "50bcad54-4d30-43c4-aa65-e26d87d68cc5",
   "metadata": {},
   "outputs": [],
   "source": [
    "import carla\n",
    "import time\n",
    "\n",
    "# Connect to CARLA\n",
    "client = carla.Client('localhost', 2000)\n",
    "client.set_timeout(10.0)\n",
    "world = client.get_world()\n",
    "\n",
    "# Toggle all buildings off\n",
    "world.unload_map_layer(carla.MapLayer.Buildings)\n",
    "\n",
    "\n",
    "# Get the blueprint library\n",
    "blueprint_library = world.get_blueprint_library()\n",
    "\n",
    "# Create a spectator camera\n",
    "camera_bp = blueprint_library.find('sensor.camera.rgb')\n",
    "camera_bp.set_attribute('image_size_x', '1920')  # Set resolution\n",
    "camera_bp.set_attribute('image_size_y', '1080')\n",
    "camera_bp.set_attribute('fov', '90')  # Field of view\n",
    "\n",
    "# Spawn the camera\n",
    "camera_transform = carla.Transform(carla.Location(x=0, y=0, z=500), carla.Rotation(pitch=-90))\n",
    "camera = world.spawn_actor(camera_bp, camera_transform)\n",
    "\n",
    "# Save the image when received\n",
    "def save_image(image):\n",
    "    image.save_to_disk('output_map/%06d.png' % image.frame)\n",
    "\n",
    "camera.listen(save_image)\n",
    "\n",
    "# Run for a few seconds to capture an image\n",
    "time.sleep(2)\n",
    "camera.stop()\n",
    "camera.destroy()\n"
   ]
  },
  {
   "cell_type": "code",
   "execution_count": null,
   "id": "0a05b46b-a3e2-43cd-816d-b0e63824f997",
   "metadata": {},
   "outputs": [],
   "source": []
  }
 ],
 "metadata": {
  "kernelspec": {
   "display_name": "Python 3 (ipykernel)",
   "language": "python",
   "name": "python3"
  },
  "language_info": {
   "codemirror_mode": {
    "name": "ipython",
    "version": 3
   },
   "file_extension": ".py",
   "mimetype": "text/x-python",
   "name": "python",
   "nbconvert_exporter": "python",
   "pygments_lexer": "ipython3",
   "version": "3.7.16"
  }
 },
 "nbformat": 4,
 "nbformat_minor": 5
}
