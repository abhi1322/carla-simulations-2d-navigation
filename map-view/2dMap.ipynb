{
 "cells": [
  {
   "cell_type": "code",
   "execution_count": 12,
   "id": "324dc14a-95c5-4cd2-8a54-4b59bf355898",
   "metadata": {},
   "outputs": [],
   "source": [
    "import carla\n",
    "import pygame\n",
    "import math\n",
    "import random"
   ]
  },
  {
   "cell_type": "code",
   "execution_count": 14,
   "id": "71e17a4e-08f4-47e0-bfa5-079260b78d61",
   "metadata": {},
   "outputs": [],
   "source": [
    "# Initialize Pygame\n",
    "pygame.init()\n",
    "WINDOW_WIDTH, WINDOW_HEIGHT = 800, 600\n",
    "window = pygame.display.set_mode((WINDOW_WIDTH, WINDOW_HEIGHT))\n",
    "pygame.display.set_caption(\"2D Map View\")\n",
    "\n",
    "# Colors\n",
    "BLACK = (0, 0, 0)\n",
    "WHITE = (255, 255, 255)\n",
    "RED = (255, 0, 0)\n",
    "GREEN = (0, 255, 0)\n",
    "GRAY = (50, 50, 50)\n"
   ]
  },
  {
   "cell_type": "code",
   "execution_count": 15,
   "id": "38e844bb-5fe7-40b6-bec9-c1e9a82b0a70",
   "metadata": {},
   "outputs": [],
   "source": [
    "# Connect to CARLA Simulator\n",
    "client = carla.Client('localhost', 2000)\n",
    "client.set_timeout(5.0)\n",
    "world = client.get_world()"
   ]
  },
  {
   "cell_type": "code",
   "execution_count": 16,
   "id": "a34ef1a9-026e-4138-bf65-3974e8a0cacc",
   "metadata": {},
   "outputs": [],
   "source": [
    "# Get the vehicle blueprint and spawn it\n",
    "bp_lib = world.get_blueprint_library()\n",
    "vehicle_bp = bp_lib.find(\"vehicle.lincoln.mkz_2020\")\n",
    "spawn_points = world.get_map().get_spawn_points()\n",
    "vehicle = world.try_spawn_actor(vehicle_bp, spawn_points[0])\n",
    "if vehicle is None:\n",
    "    print(\"Failed to spawn vehicle.\")\n",
    "    exit()\n"
   ]
  },
  {
   "cell_type": "code",
   "execution_count": 17,
   "id": "fb7d8a34-f9a9-4ad2-bbbe-8600db712e0e",
   "metadata": {},
   "outputs": [],
   "source": [
    "# Set vehicle to autopilot\n",
    "vehicle.set_autopilot(True)"
   ]
  },
  {
   "cell_type": "code",
   "execution_count": 18,
   "id": "c24a60ba-5665-4db2-a063-68ee4f57a084",
   "metadata": {},
   "outputs": [],
   "source": [
    "# Attach spectator to follow the vehicle\n",
    "spectator = world.get_spectator()"
   ]
  },
  {
   "cell_type": "code",
   "execution_count": 19,
   "id": "e6953704-a30e-4794-8033-28eff81d7833",
   "metadata": {},
   "outputs": [],
   "source": [
    "# Scaling function to fit CARLA coordinates to the 2D map\n",
    "def scale_to_map(carla_location, map_width, map_height, world_extent):\n",
    "    x = int((carla_location.x + world_extent) * (map_width / (2 * world_extent)))\n",
    "    y = int((world_extent - carla_location.y) * (map_height / (2 * world_extent)))\n",
    "    return x, y"
   ]
  },
  {
   "cell_type": "code",
   "execution_count": 20,
   "id": "c5330340-84eb-4795-b3df-f1dd30264f50",
   "metadata": {},
   "outputs": [],
   "source": [
    "# Get world extent for scaling (adjust to match your map size)\n",
    "WORLD_EXTENT = 150.0  # Adjust based on the CARLA map size"
   ]
  },
  {
   "cell_type": "code",
   "execution_count": 21,
   "id": "326758ee-b632-4f3e-830b-0ba57b6a3a1b",
   "metadata": {},
   "outputs": [],
   "source": [
    "# Draw grid on the map\n",
    "def draw_grid(surface, width, height, cell_size):\n",
    "    for x in range(0, width, cell_size):\n",
    "        pygame.draw.line(surface, GRAY, (x, 0), (x, height))\n",
    "    for y in range(0, height, cell_size):\n",
    "        pygame.draw.line(surface, GRAY, (0, y), (width, y))"
   ]
  },
  {
   "cell_type": "code",
   "execution_count": 22,
   "id": "09575ce3-fddc-461d-bca5-2317e3762b77",
   "metadata": {},
   "outputs": [],
   "source": [
    "# Main loop\n",
    "clock = pygame.time.Clock()\n",
    "running = True\n",
    "\n",
    "try:\n",
    "    while running:\n",
    "        # Handle events\n",
    "        for event in pygame.event.get():\n",
    "            if event.type == pygame.QUIT:\n",
    "                running = False\n",
    "\n",
    "        # Update vehicle position\n",
    "        vehicle_transform = vehicle.get_transform()\n",
    "        vehicle_location = vehicle_transform.location\n",
    "\n",
    "        # Update spectator view to follow the vehicle\n",
    "        spectator_transform = carla.Transform(\n",
    "            vehicle_transform.location + carla.Location(z=50),  # Adjust height\n",
    "            carla.Rotation(pitch=-90)  # Look downwards\n",
    "        )\n",
    "        spectator.set_transform(spectator_transform)\n",
    "\n",
    "        # Scale vehicle location to map coordinates\n",
    "        vehicle_x, vehicle_y = scale_to_map(vehicle_location, WINDOW_WIDTH, WINDOW_HEIGHT, WORLD_EXTENT)\n",
    "\n",
    "        # Draw map\n",
    "        window.fill(BLACK)\n",
    "        draw_grid(window, WINDOW_WIDTH, WINDOW_HEIGHT, 50)\n",
    "\n",
    "        # Draw the vehicle as a green rectangle\n",
    "        pygame.draw.rect(window, GREEN, (vehicle_x - 5, vehicle_y - 5, 10, 10))\n",
    "\n",
    "        # Update the display\n",
    "        pygame.display.flip()\n",
    "\n",
    "        # Limit frame rate\n",
    "        clock.tick(30)\n",
    "\n",
    "finally:\n",
    "    vehicle.destroy()\n",
    "    pygame.quit()"
   ]
  },
  {
   "cell_type": "code",
   "execution_count": null,
   "id": "79bf506b-d16d-4152-b84a-2a9a92432eaa",
   "metadata": {},
   "outputs": [],
   "source": []
  },
  {
   "cell_type": "code",
   "execution_count": null,
   "id": "4373d97e-cb40-465c-a07d-1da72ae9acca",
   "metadata": {},
   "outputs": [],
   "source": []
  },
  {
   "cell_type": "code",
   "execution_count": null,
   "id": "ce2ef78a-d32a-477e-927f-eb2bd91e6bc4",
   "metadata": {},
   "outputs": [],
   "source": []
  }
 ],
 "metadata": {
  "kernelspec": {
   "display_name": "Python 3 (ipykernel)",
   "language": "python",
   "name": "python3"
  },
  "language_info": {
   "codemirror_mode": {
    "name": "ipython",
    "version": 3
   },
   "file_extension": ".py",
   "mimetype": "text/x-python",
   "name": "python",
   "nbconvert_exporter": "python",
   "pygments_lexer": "ipython3",
   "version": "3.7.16"
  }
 },
 "nbformat": 4,
 "nbformat_minor": 5
}
