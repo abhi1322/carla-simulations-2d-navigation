{
 "cells": [
  {
   "cell_type": "code",
   "execution_count": 4,
   "id": "0e897a1e",
   "metadata": {},
   "outputs": [],
   "source": [
    "import carla\n",
    "import time\n"
   ]
  },
  {
   "cell_type": "code",
   "execution_count": 5,
   "id": "918feab0",
   "metadata": {},
   "outputs": [],
   "source": [
    "client = carla.Client('localhost', 2000)\n",
    "client.set_timeout(10.0)  # Set timeout to avoid connection errors\n",
    "world = client.get_world()\n"
   ]
  },
  {
   "cell_type": "code",
   "execution_count": 6,
   "id": "cacdacbc",
   "metadata": {},
   "outputs": [
    {
     "ename": "RuntimeError",
     "evalue": "Spawn failed because of collision at spawn position",
     "output_type": "error",
     "traceback": [
      "\u001b[1;31m---------------------------------------------------------------------------\u001b[0m",
      "\u001b[1;31mRuntimeError\u001b[0m                              Traceback (most recent call last)",
      "\u001b[1;32m~\\AppData\\Local\\Temp\\ipykernel_29096\\288438097.py\u001b[0m in \u001b[0;36m<module>\u001b[1;34m\u001b[0m\n\u001b[0;32m      2\u001b[0m \u001b[0mvehicle_bp\u001b[0m \u001b[1;33m=\u001b[0m \u001b[0mblueprint_library\u001b[0m\u001b[1;33m.\u001b[0m\u001b[0mfilter\u001b[0m\u001b[1;33m(\u001b[0m\u001b[1;34m'vehicle.*'\u001b[0m\u001b[1;33m)\u001b[0m\u001b[1;33m[\u001b[0m\u001b[1;36m0\u001b[0m\u001b[1;33m]\u001b[0m  \u001b[1;31m# Choose a random vehicle blueprint\u001b[0m\u001b[1;33m\u001b[0m\u001b[1;33m\u001b[0m\u001b[0m\n\u001b[0;32m      3\u001b[0m \u001b[0mspawn_points\u001b[0m \u001b[1;33m=\u001b[0m \u001b[0mworld\u001b[0m\u001b[1;33m.\u001b[0m\u001b[0mget_map\u001b[0m\u001b[1;33m(\u001b[0m\u001b[1;33m)\u001b[0m\u001b[1;33m.\u001b[0m\u001b[0mget_spawn_points\u001b[0m\u001b[1;33m(\u001b[0m\u001b[1;33m)\u001b[0m\u001b[1;33m\u001b[0m\u001b[1;33m\u001b[0m\u001b[0m\n\u001b[1;32m----> 4\u001b[1;33m \u001b[0mvehicle\u001b[0m \u001b[1;33m=\u001b[0m \u001b[0mworld\u001b[0m\u001b[1;33m.\u001b[0m\u001b[0mspawn_actor\u001b[0m\u001b[1;33m(\u001b[0m\u001b[0mvehicle_bp\u001b[0m\u001b[1;33m,\u001b[0m \u001b[0mspawn_points\u001b[0m\u001b[1;33m[\u001b[0m\u001b[1;36m0\u001b[0m\u001b[1;33m]\u001b[0m\u001b[1;33m)\u001b[0m  \u001b[1;31m# Spawn the vehicle at the first spawn point\u001b[0m\u001b[1;33m\u001b[0m\u001b[1;33m\u001b[0m\u001b[0m\n\u001b[0m",
      "\u001b[1;31mRuntimeError\u001b[0m: Spawn failed because of collision at spawn position"
     ]
    }
   ],
   "source": [
    "blueprint_library = world.get_blueprint_library()\n",
    "vehicle_bp = blueprint_library.filter('vehicle.*')[0]  # Choose a random vehicle blueprint\n",
    "spawn_points = world.get_map().get_spawn_points()\n",
    "vehicle = world.spawn_actor(vehicle_bp, spawn_points[0])  # Spawn the vehicle at the first spawn point"
   ]
  },
  {
   "cell_type": "code",
   "execution_count": 7,
   "id": "12995dfa",
   "metadata": {},
   "outputs": [],
   "source": [
    "# Get the camera blueprint\n",
    "camera_bp = blueprint_library.find('sensor.camera.rgb')\n",
    "\n",
    "# Set camera attributes (optional, e.g., resolution)\n",
    "camera_bp.set_attribute('image_size_x', '800')\n",
    "camera_bp.set_attribute('image_size_y', '600')\n",
    "camera_bp.set_attribute('fov', '110')  # Field of view\n",
    "\n",
    "# Define the camera's relative position to the vehicle\n",
    "camera_transform = carla.Transform(carla.Location(x=-5, z=2.5))  # 5 meters behind and 2.5 meters above the vehicle\n",
    "\n",
    "# Spawn and attach the camera\n",
    "camera = world.spawn_actor(camera_bp, camera_transform, attach_to=vehicle)\n"
   ]
  },
  {
   "cell_type": "code",
   "execution_count": 8,
   "id": "4429f7ff",
   "metadata": {},
   "outputs": [],
   "source": [
    "def process_image(image):\n",
    "    image.save_to_disk('output/%06d.png' % image.frame)  # Save images to disk\n",
    "\n",
    "camera.listen(lambda image: process_image(image))\n"
   ]
  },
  {
   "cell_type": "code",
   "execution_count": 9,
   "id": "3a6b8ede",
   "metadata": {},
   "outputs": [
    {
     "ename": "RuntimeError",
     "evalue": "time-out of 10000ms while waiting for the simulator, make sure the simulator is ready and connected to localhost:2000",
     "output_type": "error",
     "traceback": [
      "\u001b[1;31m---------------------------------------------------------------------------\u001b[0m",
      "\u001b[1;31mRuntimeError\u001b[0m                              Traceback (most recent call last)",
      "\u001b[1;32m~\\AppData\\Local\\Temp\\ipykernel_29096\\2545377140.py\u001b[0m in \u001b[0;36m<module>\u001b[1;34m\u001b[0m\n\u001b[0;32m      1\u001b[0m \u001b[1;32mtry\u001b[0m\u001b[1;33m:\u001b[0m\u001b[1;33m\u001b[0m\u001b[1;33m\u001b[0m\u001b[0m\n\u001b[1;32m----> 2\u001b[1;33m     \u001b[0mvehicle\u001b[0m\u001b[1;33m.\u001b[0m\u001b[0mset_autopilot\u001b[0m\u001b[1;33m(\u001b[0m\u001b[1;32mTrue\u001b[0m\u001b[1;33m)\u001b[0m  \u001b[1;31m# Enable autopilot for the vehicle\u001b[0m\u001b[1;33m\u001b[0m\u001b[1;33m\u001b[0m\u001b[0m\n\u001b[0m\u001b[0;32m      3\u001b[0m     \u001b[0mtime\u001b[0m\u001b[1;33m.\u001b[0m\u001b[0msleep\u001b[0m\u001b[1;33m(\u001b[0m\u001b[1;36m30\u001b[0m\u001b[1;33m)\u001b[0m  \u001b[1;31m# Let the simulation run for 30 seconds\u001b[0m\u001b[1;33m\u001b[0m\u001b[1;33m\u001b[0m\u001b[0m\n\u001b[0;32m      4\u001b[0m \u001b[1;32mfinally\u001b[0m\u001b[1;33m:\u001b[0m\u001b[1;33m\u001b[0m\u001b[1;33m\u001b[0m\u001b[0m\n\u001b[0;32m      5\u001b[0m     \u001b[0mcamera\u001b[0m\u001b[1;33m.\u001b[0m\u001b[0mstop\u001b[0m\u001b[1;33m(\u001b[0m\u001b[1;33m)\u001b[0m  \u001b[1;31m# Stop the camera listener\u001b[0m\u001b[1;33m\u001b[0m\u001b[1;33m\u001b[0m\u001b[0m\n",
      "\u001b[1;31mRuntimeError\u001b[0m: time-out of 10000ms while waiting for the simulator, make sure the simulator is ready and connected to localhost:2000"
     ]
    }
   ],
   "source": [
    "try:\n",
    "    vehicle.set_autopilot(True)  # Enable autopilot for the vehicle\n",
    "    time.sleep(30)  # Let the simulation run for 30 seconds\n",
    "finally:\n",
    "    camera.stop()  # Stop the camera listener\n",
    "    camera.destroy()  # Destroy the camera actor\n",
    "    vehicle.destroy()  # Destroy the vehicle actor\n"
   ]
  },
  {
   "cell_type": "code",
   "execution_count": null,
   "id": "21e45b84",
   "metadata": {},
   "outputs": [],
   "source": []
  },
  {
   "cell_type": "code",
   "execution_count": null,
   "id": "3ff1150f",
   "metadata": {},
   "outputs": [],
   "source": []
  }
 ],
 "metadata": {
  "kernelspec": {
   "display_name": "Python 3 (ipykernel)",
   "language": "python",
   "name": "python3"
  },
  "language_info": {
   "codemirror_mode": {
    "name": "ipython",
    "version": 3
   },
   "file_extension": ".py",
   "mimetype": "text/x-python",
   "name": "python",
   "nbconvert_exporter": "python",
   "pygments_lexer": "ipython3",
   "version": "3.7.16"
  }
 },
 "nbformat": 4,
 "nbformat_minor": 5
}
