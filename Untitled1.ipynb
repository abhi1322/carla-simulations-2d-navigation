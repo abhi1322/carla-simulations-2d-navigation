{
 "cells": [
  {
   "cell_type": "code",
   "execution_count": 1,
   "id": "f800414e-d766-485d-a7ca-d9d6ae1ac334",
   "metadata": {},
   "outputs": [],
   "source": [
    "import carla\n",
    "import random\n",
    "import time\n",
    "import numpy as np\n",
    "import cv2\n",
    "\n",
    "# Function to attach the spectator to follow the vehicle\n",
    "def attach_spectator_to_vehicle(vehicle):\n",
    "    spectator = world.get_spectator()\n",
    "    transform = carla.Transform(vehicle.get_transform().transform(carla.Location(x=-4, z=2.5)), vehicle.get_transform().rotation)\n",
    "    spectator.set_transform(transform)\n",
    "\n",
    "# Callback function to process camera images\n",
    "def camera_callback(image, data_dict):\n",
    "    array = np.frombuffer(image.raw_data, dtype=np.uint8)\n",
    "    array = np.reshape(array, (image.height, image.width, 4))\n",
    "    data_dict['image'] = array[:, :, :3]  # Drop the alpha channel\n"
   ]
  },
  {
   "cell_type": "code",
   "execution_count": 2,
   "id": "f01dfa83-448c-42af-8e08-1850f0bf1cb6",
   "metadata": {},
   "outputs": [],
   "source": [
    "\n",
    "# Connect to CARLA Simulator\n",
    "client = carla.Client('localhost', 2000)\n",
    "client.set_timeout(10.0)  # Increase timeout for connection stability\n",
    "world = client.get_world()\n"
   ]
  },
  {
   "cell_type": "code",
   "execution_count": 3,
   "id": "4eb13ae7-16cc-402c-83de-0b2e6bf8402f",
   "metadata": {},
   "outputs": [
    {
     "data": {
      "text/plain": [
       "2008"
      ]
     },
     "execution_count": 3,
     "metadata": {},
     "output_type": "execute_result"
    }
   ],
   "source": [
    "settings = world.get_settings()\n",
    "settings.synchronous_mode = False\n",
    "# settings.fixed_delta_seconds = 0.05\n",
    "world.apply_settings(settings)\n"
   ]
  },
  {
   "cell_type": "code",
   "execution_count": 4,
   "id": "5780bc59-0af8-4b6d-ae48-0fbcdb2170f3",
   "metadata": {},
   "outputs": [],
   "source": [
    "\n",
    "# Get blueprint library and spawn points\n",
    "bp_lib = world.get_blueprint_library()\n",
    "spawn_points = world.get_map().get_spawn_points()\n",
    "\n"
   ]
  },
  {
   "cell_type": "code",
   "execution_count": 5,
   "id": "9e9d7425-e6e9-4bfb-a80c-77b7e522bcd2",
   "metadata": {},
   "outputs": [],
   "source": [
    "\n",
    "# Spawn a vehicle\n",
    "vehicle_bp = bp_lib.find(\"vehicle.lincoln.mkz_2020\")\n",
    "vehicle = world.try_spawn_actor(vehicle_bp, random.choice(spawn_points))\n",
    "\n",
    "if vehicle is None:\n",
    "    raise RuntimeError(\"Unable to spawn the vehicle. Please retry.\")\n",
    "\n"
   ]
  },
  {
   "cell_type": "code",
   "execution_count": 6,
   "id": "53abe0a8-8f79-4b84-9465-ebaf8d1b4ad3",
   "metadata": {},
   "outputs": [],
   "source": [
    "\n",
    "# Attach spectator to follow the vehicle\n",
    "attach_spectator_to_vehicle(vehicle)\n"
   ]
  },
  {
   "cell_type": "code",
   "execution_count": 7,
   "id": "2d9a03fe-a477-4cfc-9fd2-42dfdc35f600",
   "metadata": {},
   "outputs": [],
   "source": [
    "\n",
    "# Camera types to be added\n",
    "camera_types = [\n",
    "    \"sensor.camera.rgb\",\n",
    "    \"sensor.camera.depth\",\n",
    "    \"sensor.camera.semantic_segmentation\",\n",
    "    \"sensor.camera.dvs\",\n",
    "    \"sensor.camera.instance_segmentation\",\n",
    "    \"sensor.camera.optical_flow\",\n",
    "]\n"
   ]
  },
  {
   "cell_type": "code",
   "execution_count": 8,
   "id": "c9fd7dbf-ae0a-4699-a577-7f630318e397",
   "metadata": {},
   "outputs": [],
   "source": [
    "\n",
    "# Initialize cameras\n",
    "cameras = []\n",
    "camera_data = {}\n",
    "camera_resolution = (240, 135)  # Reduced resolution for better performance\n"
   ]
  },
  {
   "cell_type": "code",
   "execution_count": 9,
   "id": "c8b81ce0-e2f4-4a9b-a03f-acfdf7fd0077",
   "metadata": {},
   "outputs": [
    {
     "ename": "RuntimeError",
     "evalue": "time-out of 10000ms while waiting for the simulator, make sure the simulator is ready and connected to localhost:2000",
     "output_type": "error",
     "traceback": [
      "\u001b[1;31m---------------------------------------------------------------------------\u001b[0m",
      "\u001b[1;31mRuntimeError\u001b[0m                              Traceback (most recent call last)",
      "\u001b[1;32m~\\AppData\\Local\\Temp\\ipykernel_14608\\3229981818.py\u001b[0m in \u001b[0;36m<module>\u001b[1;34m\u001b[0m\n\u001b[0;32m     14\u001b[0m \u001b[1;33m\u001b[0m\u001b[0m\n\u001b[0;32m     15\u001b[0m     \u001b[1;31m# Start listening to the camera\u001b[0m\u001b[1;33m\u001b[0m\u001b[1;33m\u001b[0m\u001b[1;33m\u001b[0m\u001b[0m\n\u001b[1;32m---> 16\u001b[1;33m     \u001b[0mcamera\u001b[0m\u001b[1;33m.\u001b[0m\u001b[0mlisten\u001b[0m\u001b[1;33m(\u001b[0m\u001b[1;32mlambda\u001b[0m \u001b[0mimage\u001b[0m\u001b[1;33m,\u001b[0m \u001b[0mname\u001b[0m\u001b[1;33m=\u001b[0m\u001b[0mcamera_type\u001b[0m\u001b[1;33m:\u001b[0m \u001b[0mcamera_callback\u001b[0m\u001b[1;33m(\u001b[0m\u001b[0mimage\u001b[0m\u001b[1;33m,\u001b[0m \u001b[0mcamera_data\u001b[0m\u001b[1;33m[\u001b[0m\u001b[0mname\u001b[0m\u001b[1;33m]\u001b[0m\u001b[1;33m)\u001b[0m\u001b[1;33m)\u001b[0m\u001b[1;33m\u001b[0m\u001b[1;33m\u001b[0m\u001b[0m\n\u001b[0m",
      "\u001b[1;31mRuntimeError\u001b[0m: time-out of 10000ms while waiting for the simulator, make sure the simulator is ready and connected to localhost:2000"
     ]
    }
   ],
   "source": [
    "\n",
    "for camera_type in camera_types:\n",
    "    camera_bp = bp_lib.find(camera_type)\n",
    "    camera_bp.set_attribute(\"image_size_x\", str(camera_resolution[0]))\n",
    "    camera_bp.set_attribute(\"image_size_y\", str(camera_resolution[1]))\n",
    "    # camera_bp.set_attribute(\"fov\", \"90\")  # Field of view\n",
    "\n",
    "    # Spawn camera\n",
    "    camera_transform = carla.Transform(carla.Location(x=1.5, z=2.4))  # Adjust location as needed\n",
    "    camera = world.spawn_actor(camera_bp, camera_transform, attach_to=vehicle)\n",
    "    cameras.append(camera)\n",
    "\n",
    "    # Initialize data storage\n",
    "    camera_data[camera_type] = {'image': np.zeros((camera_resolution[1], camera_resolution[0], 3), dtype=np.uint8)}\n",
    "\n",
    "    # Start listening to the camera\n",
    "    camera.listen(lambda image, name=camera_type: camera_callback(image, camera_data[name]))\n"
   ]
  },
  {
   "cell_type": "code",
   "execution_count": null,
   "id": "9c9b9d77-dd89-4e23-9936-01a14cec4777",
   "metadata": {},
   "outputs": [],
   "source": [
    "\n",
    "# Enable autopilot for the vehicle\n",
    "vehicle.set_autopilot(True)\n"
   ]
  },
  {
   "cell_type": "code",
   "execution_count": null,
   "id": "d771d13c-4819-4ed3-88b9-e2d2801e779d",
   "metadata": {},
   "outputs": [],
   "source": [
    "\n",
    "# Display camera feeds\n",
    "cv2.namedWindow(\"Camera Grid\", cv2.WINDOW_AUTOSIZE)\n",
    "\n",
    "try:\n",
    "    while True:\n",
    "        # Collect camera images\n",
    "        images = [camera_data[camera_type]['image'] for camera_type in camera_types]\n",
    "\n",
    "        # Create a 3x3 grid of images\n",
    "        grid = []\n",
    "        for i in range(0, len(images), 3):\n",
    "            row = images[i:i + 3]\n",
    "            while len(row) < 3:  # Fill empty slots with black images\n",
    "                row.append(np.zeros_like(images[0]))\n",
    "            grid.append(np.hstack(row))\n",
    "        while len(grid) < 3:  # Add empty rows if fewer than 9 images\n",
    "            grid.append(np.hstack([np.zeros_like(images[0])] * 3))\n",
    "\n",
    "        grid_image = np.vstack(grid)\n",
    "\n",
    "        # Show the grid\n",
    "        cv2.imshow(\"Camera Grid\", grid_image)\n",
    "\n",
    "        # Attach the spectator to ensure it's following the vehicle\n",
    "        attach_spectator_to_vehicle(vehicle)\n",
    "\n",
    "        if cv2.waitKey(1) == ord('q'):  # Exit on pressing 'q'\n",
    "            break\n",
    "finally:\n",
    "    # Clean up\n",
    "    cv2.destroyAllWindows()\n",
    "    for camera in cameras:\n",
    "        camera.stop()\n",
    "        camera.destroy()\n",
    "    vehicle.destroy()"
   ]
  },
  {
   "cell_type": "code",
   "execution_count": null,
   "id": "9faf7507-141f-4729-96a3-9232fc640560",
   "metadata": {},
   "outputs": [],
   "source": []
  }
 ],
 "metadata": {
  "kernelspec": {
   "display_name": "Python 3 (ipykernel)",
   "language": "python",
   "name": "python3"
  },
  "language_info": {
   "codemirror_mode": {
    "name": "ipython",
    "version": 3
   },
   "file_extension": ".py",
   "mimetype": "text/x-python",
   "name": "python",
   "nbconvert_exporter": "python",
   "pygments_lexer": "ipython3",
   "version": "3.7.16"
  }
 },
 "nbformat": 4,
 "nbformat_minor": 5
}
