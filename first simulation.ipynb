{
 "cells": [
  {
   "cell_type": "code",
   "execution_count": 1,
   "id": "a14086d1",
   "metadata": {},
   "outputs": [],
   "source": [
    "import carla"
   ]
  },
  {
   "cell_type": "code",
   "execution_count": 16,
   "id": "5748b963",
   "metadata": {},
   "outputs": [],
   "source": [
    "client = carla.Client(\"localhost\", 2000)\n",
    "\n",
    "world = client.get_world()\n",
    "spawn_points = world.get_map().get_spawn_points()\n",
    "\n",
    "\n",
    "vehicle_bp = world.get_blueprint_library().filter('*firetruck*')\n",
    "start_point = spawn_points[0]\n",
    "vehicle = world.try_spawn_actor(vehicle_bp[0], start_point)"
   ]
  },
  {
   "cell_type": "code",
   "execution_count": 17,
   "id": "bac9ae97",
   "metadata": {},
   "outputs": [
    {
     "name": "stdout",
     "output_type": "stream",
     "text": [
      "Transform(Location(x=-64.644844, y=24.471918, z=-0.001180), Rotation(pitch=-0.000034, yaw=0.159197, roll=0.000026))\n"
     ]
    }
   ],
   "source": [
    "# get vehicle position\n",
    "\n",
    "vehicle_pos = vehicle.get_transform()\n",
    "print(vehicle_pos)"
   ]
  },
  {
   "cell_type": "code",
   "execution_count": 18,
   "id": "83beb57a",
   "metadata": {},
   "outputs": [
    {
     "name": "stdout",
     "output_type": "stream",
     "text": [
      "Transform(Location(x=-64.644844, y=24.471010, z=0.600000), Rotation(pitch=0.000000, yaw=0.159198, roll=0.000000))\n"
     ]
    }
   ],
   "source": [
    "print(start_point)"
   ]
  },
  {
   "cell_type": "code",
   "execution_count": 20,
   "id": "2a1ea043",
   "metadata": {},
   "outputs": [],
   "source": [
    "vehicle.set_autopilot(False)"
   ]
  },
  {
   "cell_type": "code",
   "execution_count": 10,
   "id": "256f42e5",
   "metadata": {},
   "outputs": [
    {
     "name": "stdout",
     "output_type": "stream",
     "text": [
      "Transform(Location(x=-45.178856, y=-38.536823, z=-0.003613), Rotation(pitch=-0.000034, yaw=-89.575653, roll=0.000003))\n"
     ]
    }
   ],
   "source": [
    "vehicle_pos = vehicle.get_transform()\n",
    "print(vehicle_pos)"
   ]
  },
  {
   "cell_type": "code",
   "execution_count": 11,
   "id": "79117942",
   "metadata": {},
   "outputs": [],
   "source": [
    "town_map = world.get_map()"
   ]
  },
  {
   "cell_type": "code",
   "execution_count": 12,
   "id": "f6606415",
   "metadata": {},
   "outputs": [
    {
     "data": {
      "text/plain": [
       "carla.libcarla.Map"
      ]
     },
     "execution_count": 12,
     "metadata": {},
     "output_type": "execute_result"
    }
   ],
   "source": [
    "type(town_map)"
   ]
  },
  {
   "cell_type": "code",
   "execution_count": 13,
   "id": "30777b9c",
   "metadata": {},
   "outputs": [
    {
     "name": "stdout",
     "output_type": "stream",
     "text": [
      "Map(name=Carla/Maps/Town10HD_Opt)\n"
     ]
    }
   ],
   "source": [
    "print(town_map)"
   ]
  },
  {
   "cell_type": "code",
   "execution_count": 14,
   "id": "80281af6",
   "metadata": {},
   "outputs": [],
   "source": [
    "roads = town_map.get_topology()"
   ]
  },
  {
   "cell_type": "code",
   "execution_count": 15,
   "id": "193fcfb2",
   "metadata": {},
   "outputs": [
    {
     "name": "stdout",
     "output_type": "stream",
     "text": [
      "[(<carla.libcarla.Waypoint object at 0x000002101390D330>, <carla.libcarla.Waypoint object at 0x000002101390D450>), (<carla.libcarla.Waypoint object at 0x000002101390D2D0>, <carla.libcarla.Waypoint object at 0x000002101316A930>), (<carla.libcarla.Waypoint object at 0x00000210138EBD50>, <carla.libcarla.Waypoint object at 0x00000210138EBE70>), (<carla.libcarla.Waypoint object at 0x0000021012E96510>, <carla.libcarla.Waypoint object at 0x0000021012E96BD0>), (<carla.libcarla.Waypoint object at 0x0000021012E96B10>, <carla.libcarla.Waypoint object at 0x0000021012E96C30>), (<carla.libcarla.Waypoint object at 0x0000021012E96930>, <carla.libcarla.Waypoint object at 0x0000021012E96AB0>), (<carla.libcarla.Waypoint object at 0x0000021012E96CF0>, <carla.libcarla.Waypoint object at 0x00000210136F8C90>), (<carla.libcarla.Waypoint object at 0x00000210136F8B10>, <carla.libcarla.Waypoint object at 0x00000210136F89F0>), (<carla.libcarla.Waypoint object at 0x00000210136F8B70>, <carla.libcarla.Waypoint object at 0x00000210136F8030>), (<carla.libcarla.Waypoint object at 0x00000210136F8330>, <carla.libcarla.Waypoint object at 0x00000210136F88D0>), (<carla.libcarla.Waypoint object at 0x00000210136F8870>, <carla.libcarla.Waypoint object at 0x00000210136F86F0>), (<carla.libcarla.Waypoint object at 0x00000210136F8810>, <carla.libcarla.Waypoint object at 0x00000210136F82D0>), (<carla.libcarla.Waypoint object at 0x00000210136F8A50>, <carla.libcarla.Waypoint object at 0x00000210136F8F90>), (<carla.libcarla.Waypoint object at 0x00000210136F8390>, <carla.libcarla.Waypoint object at 0x00000210136F8C30>), (<carla.libcarla.Waypoint object at 0x00000210136F8750>, <carla.libcarla.Waypoint object at 0x00000210136F8690>), (<carla.libcarla.Waypoint object at 0x00000210136F8E70>, <carla.libcarla.Waypoint object at 0x00000210136F81B0>), (<carla.libcarla.Waypoint object at 0x00000210136F8AB0>, <carla.libcarla.Waypoint object at 0x00000210136F8990>), (<carla.libcarla.Waypoint object at 0x00000210136F80F0>, <carla.libcarla.Waypoint object at 0x00000210136F8570>), (<carla.libcarla.Waypoint object at 0x00000210136F8E10>, <carla.libcarla.Waypoint object at 0x00000210136F84B0>), (<carla.libcarla.Waypoint object at 0x00000210136F8ED0>, <carla.libcarla.Waypoint object at 0x00000210136F8CF0>), (<carla.libcarla.Waypoint object at 0x00000210136F8930>, <carla.libcarla.Waypoint object at 0x00000210136F8630>), (<carla.libcarla.Waypoint object at 0x00000210136F8DB0>, <carla.libcarla.Waypoint object at 0x00000210136F8D50>), (<carla.libcarla.Waypoint object at 0x00000210136F87B0>, <carla.libcarla.Waypoint object at 0x00000210136F85D0>), (<carla.libcarla.Waypoint object at 0x00000210136F8BD0>, <carla.libcarla.Waypoint object at 0x00000210136F8270>), (<carla.libcarla.Waypoint object at 0x00000210136F8F30>, <carla.libcarla.Waypoint object at 0x00000210136F8510>), (<carla.libcarla.Waypoint object at 0x0000021012DE5030>, <carla.libcarla.Waypoint object at 0x0000021012DE5090>), (<carla.libcarla.Waypoint object at 0x0000021012DE50F0>, <carla.libcarla.Waypoint object at 0x0000021012DE5150>), (<carla.libcarla.Waypoint object at 0x0000021012DE51B0>, <carla.libcarla.Waypoint object at 0x0000021012DE5210>), (<carla.libcarla.Waypoint object at 0x0000021012DE5270>, <carla.libcarla.Waypoint object at 0x0000021012DE52D0>), (<carla.libcarla.Waypoint object at 0x0000021012DE5330>, <carla.libcarla.Waypoint object at 0x0000021012DE5390>), (<carla.libcarla.Waypoint object at 0x0000021012DE53F0>, <carla.libcarla.Waypoint object at 0x0000021012DE5450>), (<carla.libcarla.Waypoint object at 0x0000021012DE54B0>, <carla.libcarla.Waypoint object at 0x0000021012DE5510>), (<carla.libcarla.Waypoint object at 0x0000021012DE5570>, <carla.libcarla.Waypoint object at 0x0000021012DE55D0>), (<carla.libcarla.Waypoint object at 0x0000021012DE5630>, <carla.libcarla.Waypoint object at 0x0000021012DE5690>), (<carla.libcarla.Waypoint object at 0x0000021012DE56F0>, <carla.libcarla.Waypoint object at 0x0000021012DE5750>), (<carla.libcarla.Waypoint object at 0x0000021012DE57B0>, <carla.libcarla.Waypoint object at 0x0000021012DE5810>), (<carla.libcarla.Waypoint object at 0x0000021012DE5870>, <carla.libcarla.Waypoint object at 0x0000021012DE58D0>), (<carla.libcarla.Waypoint object at 0x0000021012DE5930>, <carla.libcarla.Waypoint object at 0x0000021012DE5990>), (<carla.libcarla.Waypoint object at 0x0000021012DE59F0>, <carla.libcarla.Waypoint object at 0x0000021012DE5A50>), (<carla.libcarla.Waypoint object at 0x0000021012DE5AB0>, <carla.libcarla.Waypoint object at 0x0000021012DE5B10>), (<carla.libcarla.Waypoint object at 0x0000021012DE5B70>, <carla.libcarla.Waypoint object at 0x0000021012DE5BD0>), (<carla.libcarla.Waypoint object at 0x0000021012DE5C30>, <carla.libcarla.Waypoint object at 0x0000021012DE5C90>), (<carla.libcarla.Waypoint object at 0x0000021012DE5CF0>, <carla.libcarla.Waypoint object at 0x0000021012DE5D50>), (<carla.libcarla.Waypoint object at 0x0000021012DE5DB0>, <carla.libcarla.Waypoint object at 0x0000021012DE5E10>), (<carla.libcarla.Waypoint object at 0x0000021012DE5E70>, <carla.libcarla.Waypoint object at 0x0000021012DE5ED0>), (<carla.libcarla.Waypoint object at 0x0000021012DE5F30>, <carla.libcarla.Waypoint object at 0x0000021012DE5F90>), (<carla.libcarla.Waypoint object at 0x0000021012DFF030>, <carla.libcarla.Waypoint object at 0x0000021012DFF090>), (<carla.libcarla.Waypoint object at 0x0000021012DFF0F0>, <carla.libcarla.Waypoint object at 0x0000021012DFF150>), (<carla.libcarla.Waypoint object at 0x0000021012DFF1B0>, <carla.libcarla.Waypoint object at 0x0000021012DFF210>), (<carla.libcarla.Waypoint object at 0x0000021012DFF270>, <carla.libcarla.Waypoint object at 0x0000021012DFF2D0>), (<carla.libcarla.Waypoint object at 0x0000021012DFF330>, <carla.libcarla.Waypoint object at 0x0000021012DFF390>), (<carla.libcarla.Waypoint object at 0x0000021012DFF3F0>, <carla.libcarla.Waypoint object at 0x0000021012DFF450>), (<carla.libcarla.Waypoint object at 0x0000021012DFF4B0>, <carla.libcarla.Waypoint object at 0x0000021012DFF510>), (<carla.libcarla.Waypoint object at 0x0000021012DFF570>, <carla.libcarla.Waypoint object at 0x0000021012DFF5D0>), (<carla.libcarla.Waypoint object at 0x0000021012DFF630>, <carla.libcarla.Waypoint object at 0x0000021012DFF690>), (<carla.libcarla.Waypoint object at 0x0000021012DFF6F0>, <carla.libcarla.Waypoint object at 0x0000021012DFF750>), (<carla.libcarla.Waypoint object at 0x0000021012DFF7B0>, <carla.libcarla.Waypoint object at 0x0000021012DFF810>), (<carla.libcarla.Waypoint object at 0x0000021012DFF870>, <carla.libcarla.Waypoint object at 0x0000021012DFF8D0>), (<carla.libcarla.Waypoint object at 0x0000021012DFF930>, <carla.libcarla.Waypoint object at 0x0000021012DFF990>), (<carla.libcarla.Waypoint object at 0x0000021012DFF9F0>, <carla.libcarla.Waypoint object at 0x0000021012DFFA50>), (<carla.libcarla.Waypoint object at 0x0000021012DFFAB0>, <carla.libcarla.Waypoint object at 0x0000021012DFFB10>), (<carla.libcarla.Waypoint object at 0x0000021012DFFB70>, <carla.libcarla.Waypoint object at 0x0000021012DFFBD0>), (<carla.libcarla.Waypoint object at 0x0000021012DFFC30>, <carla.libcarla.Waypoint object at 0x0000021012DFFC90>), (<carla.libcarla.Waypoint object at 0x0000021012DFFCF0>, <carla.libcarla.Waypoint object at 0x0000021012DFFD50>), (<carla.libcarla.Waypoint object at 0x0000021012DFFDB0>, <carla.libcarla.Waypoint object at 0x0000021012DFFE10>), (<carla.libcarla.Waypoint object at 0x0000021012DFFE70>, <carla.libcarla.Waypoint object at 0x0000021012DFFED0>), (<carla.libcarla.Waypoint object at 0x0000021012DFFF30>, <carla.libcarla.Waypoint object at 0x0000021012DFFF90>), (<carla.libcarla.Waypoint object at 0x0000021012DE8030>, <carla.libcarla.Waypoint object at 0x0000021012DE8090>), (<carla.libcarla.Waypoint object at 0x0000021012DE80F0>, <carla.libcarla.Waypoint object at 0x0000021012DE8150>), (<carla.libcarla.Waypoint object at 0x0000021012DE81B0>, <carla.libcarla.Waypoint object at 0x0000021012DE8210>), (<carla.libcarla.Waypoint object at 0x0000021012DE8270>, <carla.libcarla.Waypoint object at 0x0000021012DE82D0>), (<carla.libcarla.Waypoint object at 0x0000021012DE8330>, <carla.libcarla.Waypoint object at 0x0000021012DE8390>), (<carla.libcarla.Waypoint object at 0x0000021012DE83F0>, <carla.libcarla.Waypoint object at 0x0000021012DE8450>), (<carla.libcarla.Waypoint object at 0x0000021012DE84B0>, <carla.libcarla.Waypoint object at 0x0000021012DE8510>), (<carla.libcarla.Waypoint object at 0x0000021012DE8570>, <carla.libcarla.Waypoint object at 0x0000021012DE85D0>), (<carla.libcarla.Waypoint object at 0x0000021012DE8630>, <carla.libcarla.Waypoint object at 0x0000021012DE8690>), (<carla.libcarla.Waypoint object at 0x0000021012DE86F0>, <carla.libcarla.Waypoint object at 0x0000021012DE8750>), (<carla.libcarla.Waypoint object at 0x0000021012DE87B0>, <carla.libcarla.Waypoint object at 0x0000021012DE8810>), (<carla.libcarla.Waypoint object at 0x0000021012DE8870>, <carla.libcarla.Waypoint object at 0x0000021012DE88D0>), (<carla.libcarla.Waypoint object at 0x0000021012DE8930>, <carla.libcarla.Waypoint object at 0x0000021012DE8990>), (<carla.libcarla.Waypoint object at 0x0000021012DE89F0>, <carla.libcarla.Waypoint object at 0x0000021012DE8A50>), (<carla.libcarla.Waypoint object at 0x0000021012DE8AB0>, <carla.libcarla.Waypoint object at 0x0000021012DE8B10>), (<carla.libcarla.Waypoint object at 0x0000021012DE8B70>, <carla.libcarla.Waypoint object at 0x0000021012DE8BD0>), (<carla.libcarla.Waypoint object at 0x0000021012DE8C30>, <carla.libcarla.Waypoint object at 0x0000021012DE8C90>), (<carla.libcarla.Waypoint object at 0x0000021012DE8CF0>, <carla.libcarla.Waypoint object at 0x0000021012DE8D50>), (<carla.libcarla.Waypoint object at 0x0000021012DE8DB0>, <carla.libcarla.Waypoint object at 0x0000021012DE8E10>), (<carla.libcarla.Waypoint object at 0x0000021012DE8E70>, <carla.libcarla.Waypoint object at 0x0000021012DE8ED0>), (<carla.libcarla.Waypoint object at 0x0000021012DE8F30>, <carla.libcarla.Waypoint object at 0x0000021012DE8F90>), (<carla.libcarla.Waypoint object at 0x00000210135DB030>, <carla.libcarla.Waypoint object at 0x00000210135DB090>), (<carla.libcarla.Waypoint object at 0x00000210135DB0F0>, <carla.libcarla.Waypoint object at 0x00000210135DB150>), (<carla.libcarla.Waypoint object at 0x00000210135DB1B0>, <carla.libcarla.Waypoint object at 0x00000210135DB210>), (<carla.libcarla.Waypoint object at 0x00000210135DB270>, <carla.libcarla.Waypoint object at 0x00000210135DB2D0>), (<carla.libcarla.Waypoint object at 0x00000210135DB330>, <carla.libcarla.Waypoint object at 0x00000210135DB390>), (<carla.libcarla.Waypoint object at 0x00000210135DB3F0>, <carla.libcarla.Waypoint object at 0x00000210135DB450>), (<carla.libcarla.Waypoint object at 0x00000210135DB4B0>, <carla.libcarla.Waypoint object at 0x00000210135DB510>), (<carla.libcarla.Waypoint object at 0x00000210135DB570>, <carla.libcarla.Waypoint object at 0x00000210135DB5D0>), (<carla.libcarla.Waypoint object at 0x00000210135DB630>, <carla.libcarla.Waypoint object at 0x00000210135DB690>), (<carla.libcarla.Waypoint object at 0x00000210135DB6F0>, <carla.libcarla.Waypoint object at 0x00000210135DB750>), (<carla.libcarla.Waypoint object at 0x00000210135DB7B0>, <carla.libcarla.Waypoint object at 0x00000210135DB810>), (<carla.libcarla.Waypoint object at 0x00000210135DB870>, <carla.libcarla.Waypoint object at 0x00000210135DB8D0>), (<carla.libcarla.Waypoint object at 0x00000210135DB930>, <carla.libcarla.Waypoint object at 0x00000210135DB990>), (<carla.libcarla.Waypoint object at 0x00000210135DB9F0>, <carla.libcarla.Waypoint object at 0x00000210135DBA50>), (<carla.libcarla.Waypoint object at 0x00000210135DBAB0>, <carla.libcarla.Waypoint object at 0x00000210135DBB10>), (<carla.libcarla.Waypoint object at 0x00000210135DBB70>, <carla.libcarla.Waypoint object at 0x00000210135DBBD0>), (<carla.libcarla.Waypoint object at 0x00000210135DBC30>, <carla.libcarla.Waypoint object at 0x00000210135DBC90>), (<carla.libcarla.Waypoint object at 0x00000210135DBCF0>, <carla.libcarla.Waypoint object at 0x00000210135DBD50>), (<carla.libcarla.Waypoint object at 0x00000210135DBDB0>, <carla.libcarla.Waypoint object at 0x00000210135DBE10>), (<carla.libcarla.Waypoint object at 0x00000210135DBE70>, <carla.libcarla.Waypoint object at 0x00000210135DBED0>), (<carla.libcarla.Waypoint object at 0x00000210135DBF30>, <carla.libcarla.Waypoint object at 0x00000210135DBF90>), (<carla.libcarla.Waypoint object at 0x00000210135C8030>, <carla.libcarla.Waypoint object at 0x00000210135C8090>), (<carla.libcarla.Waypoint object at 0x00000210135C80F0>, <carla.libcarla.Waypoint object at 0x00000210135C8150>), (<carla.libcarla.Waypoint object at 0x00000210135C81B0>, <carla.libcarla.Waypoint object at 0x00000210135C8210>), (<carla.libcarla.Waypoint object at 0x00000210135C8270>, <carla.libcarla.Waypoint object at 0x00000210135C82D0>), (<carla.libcarla.Waypoint object at 0x00000210135C8330>, <carla.libcarla.Waypoint object at 0x00000210135C8390>), (<carla.libcarla.Waypoint object at 0x00000210135C83F0>, <carla.libcarla.Waypoint object at 0x00000210135C8450>), (<carla.libcarla.Waypoint object at 0x00000210135C84B0>, <carla.libcarla.Waypoint object at 0x00000210135C8510>), (<carla.libcarla.Waypoint object at 0x00000210135C8570>, <carla.libcarla.Waypoint object at 0x00000210135C85D0>), (<carla.libcarla.Waypoint object at 0x00000210135C8630>, <carla.libcarla.Waypoint object at 0x00000210135C8690>), (<carla.libcarla.Waypoint object at 0x00000210135C86F0>, <carla.libcarla.Waypoint object at 0x00000210135C8750>), (<carla.libcarla.Waypoint object at 0x00000210135C87B0>, <carla.libcarla.Waypoint object at 0x00000210135C8810>), (<carla.libcarla.Waypoint object at 0x00000210135C8870>, <carla.libcarla.Waypoint object at 0x00000210135C88D0>), (<carla.libcarla.Waypoint object at 0x00000210135C8930>, <carla.libcarla.Waypoint object at 0x00000210135C8990>), (<carla.libcarla.Waypoint object at 0x00000210135C89F0>, <carla.libcarla.Waypoint object at 0x00000210135C8A50>), (<carla.libcarla.Waypoint object at 0x00000210135C8AB0>, <carla.libcarla.Waypoint object at 0x00000210135C8B10>), (<carla.libcarla.Waypoint object at 0x00000210135C8B70>, <carla.libcarla.Waypoint object at 0x00000210135C8BD0>), (<carla.libcarla.Waypoint object at 0x00000210135C8C30>, <carla.libcarla.Waypoint object at 0x00000210135C8C90>), (<carla.libcarla.Waypoint object at 0x00000210135C8CF0>, <carla.libcarla.Waypoint object at 0x00000210135C8D50>), (<carla.libcarla.Waypoint object at 0x00000210135C8DB0>, <carla.libcarla.Waypoint object at 0x00000210135C8E10>), (<carla.libcarla.Waypoint object at 0x00000210135C8E70>, <carla.libcarla.Waypoint object at 0x00000210135C8ED0>), (<carla.libcarla.Waypoint object at 0x00000210135C8F30>, <carla.libcarla.Waypoint object at 0x00000210135C8F90>), (<carla.libcarla.Waypoint object at 0x00000210135AD030>, <carla.libcarla.Waypoint object at 0x00000210135AD090>), (<carla.libcarla.Waypoint object at 0x00000210135AD0F0>, <carla.libcarla.Waypoint object at 0x00000210135AD150>), (<carla.libcarla.Waypoint object at 0x00000210135AD1B0>, <carla.libcarla.Waypoint object at 0x00000210135AD210>), (<carla.libcarla.Waypoint object at 0x00000210135AD270>, <carla.libcarla.Waypoint object at 0x00000210135AD2D0>), (<carla.libcarla.Waypoint object at 0x00000210135AD330>, <carla.libcarla.Waypoint object at 0x00000210135AD390>), (<carla.libcarla.Waypoint object at 0x00000210135AD3F0>, <carla.libcarla.Waypoint object at 0x00000210135AD450>), (<carla.libcarla.Waypoint object at 0x00000210135AD4B0>, <carla.libcarla.Waypoint object at 0x00000210135AD510>), (<carla.libcarla.Waypoint object at 0x00000210135AD570>, <carla.libcarla.Waypoint object at 0x00000210135AD5D0>), (<carla.libcarla.Waypoint object at 0x00000210135AD630>, <carla.libcarla.Waypoint object at 0x00000210135AD690>), (<carla.libcarla.Waypoint object at 0x00000210135AD6F0>, <carla.libcarla.Waypoint object at 0x00000210135AD750>), (<carla.libcarla.Waypoint object at 0x00000210135AD7B0>, <carla.libcarla.Waypoint object at 0x00000210135AD810>), (<carla.libcarla.Waypoint object at 0x00000210135AD870>, <carla.libcarla.Waypoint object at 0x00000210135AD8D0>), (<carla.libcarla.Waypoint object at 0x00000210135AD930>, <carla.libcarla.Waypoint object at 0x00000210135AD990>), (<carla.libcarla.Waypoint object at 0x00000210135AD9F0>, <carla.libcarla.Waypoint object at 0x00000210135ADA50>), (<carla.libcarla.Waypoint object at 0x00000210135ADAB0>, <carla.libcarla.Waypoint object at 0x00000210135ADB10>), (<carla.libcarla.Waypoint object at 0x00000210135ADB70>, <carla.libcarla.Waypoint object at 0x00000210135ADBD0>), (<carla.libcarla.Waypoint object at 0x00000210135ADC30>, <carla.libcarla.Waypoint object at 0x00000210135ADC90>), (<carla.libcarla.Waypoint object at 0x00000210135ADCF0>, <carla.libcarla.Waypoint object at 0x00000210135ADD50>), (<carla.libcarla.Waypoint object at 0x00000210135ADDB0>, <carla.libcarla.Waypoint object at 0x00000210135ADE10>), (<carla.libcarla.Waypoint object at 0x00000210135ADE70>, <carla.libcarla.Waypoint object at 0x00000210135ADED0>), (<carla.libcarla.Waypoint object at 0x00000210135ADF30>, <carla.libcarla.Waypoint object at 0x00000210135ADF90>), (<carla.libcarla.Waypoint object at 0x00000210135BF030>, <carla.libcarla.Waypoint object at 0x00000210135BF090>), (<carla.libcarla.Waypoint object at 0x00000210135BF0F0>, <carla.libcarla.Waypoint object at 0x00000210135BF150>), (<carla.libcarla.Waypoint object at 0x00000210135BF1B0>, <carla.libcarla.Waypoint object at 0x00000210135BF210>), (<carla.libcarla.Waypoint object at 0x00000210135BF270>, <carla.libcarla.Waypoint object at 0x00000210135BF2D0>), (<carla.libcarla.Waypoint object at 0x00000210135BF330>, <carla.libcarla.Waypoint object at 0x00000210135BF390>), (<carla.libcarla.Waypoint object at 0x00000210135BF3F0>, <carla.libcarla.Waypoint object at 0x00000210135BF450>), (<carla.libcarla.Waypoint object at 0x00000210135BF4B0>, <carla.libcarla.Waypoint object at 0x00000210135BF510>), (<carla.libcarla.Waypoint object at 0x00000210135BF570>, <carla.libcarla.Waypoint object at 0x00000210135BF5D0>), (<carla.libcarla.Waypoint object at 0x00000210135BF630>, <carla.libcarla.Waypoint object at 0x00000210135BF690>), (<carla.libcarla.Waypoint object at 0x00000210135BF6F0>, <carla.libcarla.Waypoint object at 0x00000210135BF750>), (<carla.libcarla.Waypoint object at 0x00000210135BF7B0>, <carla.libcarla.Waypoint object at 0x00000210135BF810>), (<carla.libcarla.Waypoint object at 0x00000210135BF870>, <carla.libcarla.Waypoint object at 0x00000210135BF8D0>), (<carla.libcarla.Waypoint object at 0x00000210135BF930>, <carla.libcarla.Waypoint object at 0x00000210135BF990>), (<carla.libcarla.Waypoint object at 0x00000210135BF9F0>, <carla.libcarla.Waypoint object at 0x00000210135BFA50>), (<carla.libcarla.Waypoint object at 0x00000210135BFAB0>, <carla.libcarla.Waypoint object at 0x00000210135BFB10>), (<carla.libcarla.Waypoint object at 0x00000210135BFB70>, <carla.libcarla.Waypoint object at 0x00000210135BFBD0>), (<carla.libcarla.Waypoint object at 0x00000210135BFC30>, <carla.libcarla.Waypoint object at 0x00000210135BFC90>), (<carla.libcarla.Waypoint object at 0x00000210135BFCF0>, <carla.libcarla.Waypoint object at 0x00000210135BFD50>), (<carla.libcarla.Waypoint object at 0x00000210135BFDB0>, <carla.libcarla.Waypoint object at 0x00000210135BFE10>), (<carla.libcarla.Waypoint object at 0x00000210135BFE70>, <carla.libcarla.Waypoint object at 0x00000210135BFED0>), (<carla.libcarla.Waypoint object at 0x00000210135BFF30>, <carla.libcarla.Waypoint object at 0x00000210135BFF90>), (<carla.libcarla.Waypoint object at 0x00000210135D8030>, <carla.libcarla.Waypoint object at 0x00000210135D8090>), (<carla.libcarla.Waypoint object at 0x00000210135D80F0>, <carla.libcarla.Waypoint object at 0x00000210135D8150>), (<carla.libcarla.Waypoint object at 0x00000210135D81B0>, <carla.libcarla.Waypoint object at 0x00000210135D8210>), (<carla.libcarla.Waypoint object at 0x00000210135D8270>, <carla.libcarla.Waypoint object at 0x00000210135D82D0>), (<carla.libcarla.Waypoint object at 0x00000210135D8330>, <carla.libcarla.Waypoint object at 0x00000210135D8390>), (<carla.libcarla.Waypoint object at 0x00000210135D83F0>, <carla.libcarla.Waypoint object at 0x00000210135D8450>), (<carla.libcarla.Waypoint object at 0x00000210135D84B0>, <carla.libcarla.Waypoint object at 0x00000210135D8510>), (<carla.libcarla.Waypoint object at 0x00000210135D8570>, <carla.libcarla.Waypoint object at 0x00000210135D85D0>), (<carla.libcarla.Waypoint object at 0x00000210135D8630>, <carla.libcarla.Waypoint object at 0x00000210135D8690>), (<carla.libcarla.Waypoint object at 0x00000210135D86F0>, <carla.libcarla.Waypoint object at 0x00000210135D8750>), (<carla.libcarla.Waypoint object at 0x00000210135D87B0>, <carla.libcarla.Waypoint object at 0x00000210135D8810>), (<carla.libcarla.Waypoint object at 0x00000210135D8870>, <carla.libcarla.Waypoint object at 0x00000210135D88D0>), (<carla.libcarla.Waypoint object at 0x00000210135D8930>, <carla.libcarla.Waypoint object at 0x00000210135D8990>), (<carla.libcarla.Waypoint object at 0x00000210135D89F0>, <carla.libcarla.Waypoint object at 0x00000210135D8A50>), (<carla.libcarla.Waypoint object at 0x00000210135D8AB0>, <carla.libcarla.Waypoint object at 0x00000210135D8B10>), (<carla.libcarla.Waypoint object at 0x00000210135D8B70>, <carla.libcarla.Waypoint object at 0x00000210135D8BD0>), (<carla.libcarla.Waypoint object at 0x00000210135D8C30>, <carla.libcarla.Waypoint object at 0x00000210135D8C90>), (<carla.libcarla.Waypoint object at 0x00000210135D8CF0>, <carla.libcarla.Waypoint object at 0x00000210135D8D50>), (<carla.libcarla.Waypoint object at 0x00000210135D8DB0>, <carla.libcarla.Waypoint object at 0x00000210135D8E10>), (<carla.libcarla.Waypoint object at 0x00000210135D8E70>, <carla.libcarla.Waypoint object at 0x00000210135D8ED0>), (<carla.libcarla.Waypoint object at 0x00000210135D8F30>, <carla.libcarla.Waypoint object at 0x00000210135D8F90>), (<carla.libcarla.Waypoint object at 0x00000210135B0030>, <carla.libcarla.Waypoint object at 0x00000210135B0090>), (<carla.libcarla.Waypoint object at 0x00000210135B00F0>, <carla.libcarla.Waypoint object at 0x00000210135B0150>), (<carla.libcarla.Waypoint object at 0x00000210135B01B0>, <carla.libcarla.Waypoint object at 0x00000210135B0210>), (<carla.libcarla.Waypoint object at 0x00000210135B0270>, <carla.libcarla.Waypoint object at 0x00000210135B02D0>), (<carla.libcarla.Waypoint object at 0x000002101390D510>, <carla.libcarla.Waypoint object at 0x0000021012E96ED0>), (<carla.libcarla.Waypoint object at 0x0000021012E96B70>, <carla.libcarla.Waypoint object at 0x0000021012D9FA50>), (<carla.libcarla.Waypoint object at 0x0000021012D9FBD0>, <carla.libcarla.Waypoint object at 0x0000021012D9F8D0>)]\n"
     ]
    }
   ],
   "source": [
    "print(roads)"
   ]
  },
  {
   "cell_type": "code",
   "execution_count": null,
   "id": "0bd804df",
   "metadata": {},
   "outputs": [],
   "source": []
  }
 ],
 "metadata": {
  "kernelspec": {
   "display_name": "Python 3 (ipykernel)",
   "language": "python",
   "name": "python3"
  },
  "language_info": {
   "codemirror_mode": {
    "name": "ipython",
    "version": 3
   },
   "file_extension": ".py",
   "mimetype": "text/x-python",
   "name": "python",
   "nbconvert_exporter": "python",
   "pygments_lexer": "ipython3",
   "version": "3.7.16"
  }
 },
 "nbformat": 4,
 "nbformat_minor": 5
}
